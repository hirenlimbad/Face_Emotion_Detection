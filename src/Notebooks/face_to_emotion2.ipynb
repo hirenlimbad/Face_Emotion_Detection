{
  "cells": [
    {
      "cell_type": "code",
      "execution_count": null,
      "metadata": {
        "id": "_Npe0gKhCfwd"
      },
      "outputs": [],
      "source": [
        "# !pip install mediapipe"
      ]
    },
    {
      "cell_type": "code",
      "execution_count": null,
      "metadata": {
        "id": "XHoGGuuHCpmJ"
      },
      "outputs": [],
      "source": [
        "# import mediapipe\n",
        "import os\n",
        "from sklearn.model_selection import train_test_split\n",
        "# from kaggle.api.kaggle_api_extended import KaggleApi\n",
        "import matplotlib.pyplot as plt\n",
        "import cv2\n",
        "import itertools\n",
        "import numpy as np\n",
        "from time import time\n",
        "#import mediapipe as mp\n",
        "\n",
        "import tensorflow as tf\n",
        "from tensorflow.keras import layers, Sequential\n",
        "from tensorflow.keras.optimizers import SGD, Adam\n",
        "from tensorflow.keras.preprocessing.image import ImageDataGenerator\n",
        "from tensorflow.keras import layers, Model"
      ]
    },
    {
      "cell_type": "code",
      "execution_count": null,
      "metadata": {
        "colab": {
          "base_uri": "https://localhost:8080/"
        },
        "id": "7kRLiDEVCwr9",
        "outputId": "68478ec5-5f16-4906-a501-f5a3d653d0d4"
      },
      "outputs": [
        {
          "output_type": "stream",
          "name": "stdout",
          "text": [
            "Dataset downloaded and extracted successfully.\n"
          ]
        }
      ],
      "source": [
        "for i in [1,1]:\n",
        "    try:\n",
        "        from kaggle.api.kaggle_api_extended import KaggleApi\n",
        "        # Set your Kaggle API credentials\n",
        "        os.environ[\"KAGGLE_USERNAME\"] = \"hirenlimbad\"\n",
        "        os.environ[\"KAGGLE_KEY\"] = \"a1a4a5b5574b5c92759cb9e3601a7b0b\"\n",
        "\n",
        "        # Initialize the Kaggle API\n",
        "        api = KaggleApi()\n",
        "        api.authenticate()\n",
        "\n",
        "        # Dataset name and path\n",
        "        dataset_name = \"chiragsoni/ferdata\"\n",
        "        download_path = \"images_data\"  # Change this to your desired download path\n",
        "\n",
        "        # Download the dataset\n",
        "        api.dataset_download_files(dataset_name, path=download_path, unzip=True)\n",
        "        print(\"Dataset downloaded and extracted successfully.\")\n",
        "        break\n",
        "    except:\n",
        "        pass"
      ]
    },
    {
      "cell_type": "code",
      "execution_count": null,
      "metadata": {
        "colab": {
          "base_uri": "https://localhost:8080/"
        },
        "id": "tTkvW28KFraJ",
        "outputId": "88bc847c-50dc-467b-f087-4dfcc344f5df"
      },
      "outputs": [
        {
          "output_type": "execute_result",
          "data": {
            "text/plain": [
              "['sad', 'angry', 'disgust', 'neutral', 'surprise', 'fear', 'happy']"
            ]
          },
          "metadata": {},
          "execution_count": 6
        }
      ],
      "source": [
        "os.listdir(\"/content/images_data/train\")"
      ]
    },
    {
      "cell_type": "code",
      "execution_count": null,
      "metadata": {
        "id": "O7SExNdYF9Gk"
      },
      "outputs": [],
      "source": [
        "from PIL import Image\n",
        "import os\n",
        "import numpy as np\n",
        "\n",
        "# List of emotion folders\n",
        "emotion_folders = ['angry', 'disgust', 'fear', 'happy', 'neutral', 'sad', 'surprise']\n",
        "\n",
        "# List to store image arrays and corresponding labels\n",
        "image_arrays = []\n",
        "labels = []\n",
        "\n",
        "# Replace 'base_folder' with the path to the root directory containing the emotion folders\n",
        "base_folder = '/content/images_data/train'\n",
        "\n",
        "# Loop through each emotion folder\n",
        "for emotion_id, emotion in enumerate(emotion_folders):\n",
        "    folder_path = os.path.join(base_folder, emotion)\n",
        "\n",
        "    # Check if the folder exists\n",
        "    if os.path.exists(folder_path) and os.path.isdir(folder_path):\n",
        "        # Get a list of all files in the folder\n",
        "        files = os.listdir(folder_path)\n",
        "\n",
        "        # Filter image files (you can modify the extensions as needed)\n",
        "        image_files = [file for file in files if file.lower().endswith(('.png', '.jpg', '.jpeg', '.gif'))]\n",
        "\n",
        "        # Read and convert images to arrays and associate with labels\n",
        "        for image_file in image_files:\n",
        "            image_path = os.path.join(folder_path, image_file)\n",
        "            try:\n",
        "                img = Image.open(image_path)\n",
        "                img_array = np.array(img)  # Convert image to array\n",
        "                image_arrays.append(img_array)\n",
        "                labels.append(emotion_id)  # Assign the emotion_id as the label\n",
        "            except Exception as e:\n",
        "                print(f\"Error processing {image_path}: {e}\")\n",
        "\n",
        "# Now you have lists of image arrays in 'image_arrays' and their corresponding labels in 'labels'"
      ]
    },
    {
      "cell_type": "code",
      "execution_count": null,
      "metadata": {
        "colab": {
          "base_uri": "https://localhost:8080/"
        },
        "id": "YGgTNzGPGIdR",
        "outputId": "d759a80b-9c58-430b-f459-5a105e5cdcc0"
      },
      "outputs": [
        {
          "output_type": "execute_result",
          "data": {
            "text/plain": [
              "(28709, 28709)"
            ]
          },
          "metadata": {},
          "execution_count": 8
        }
      ],
      "source": [
        "len(image_arrays), len(labels)"
      ]
    },
    {
      "cell_type": "code",
      "execution_count": null,
      "metadata": {
        "id": "cXcryR0iGQ4d"
      },
      "outputs": [],
      "source": [
        "image_arr = np.array(image_arrays)"
      ]
    },
    {
      "cell_type": "code",
      "execution_count": null,
      "metadata": {
        "colab": {
          "base_uri": "https://localhost:8080/",
          "height": 213
        },
        "id": "-9cu3MmqGRHr",
        "outputId": "bacb3afc-8ac1-4156-fcbc-6700eae94086"
      },
      "outputs": [
        {
          "output_type": "display_data",
          "data": {
            "text/plain": [
              "<Figure size 200x200 with 1 Axes>"
            ],
            "image/png": "[encoded data removed]"
          },
          "metadata": {}
        }
      ],
      "source": [
        "def show_image(X, y, index = 0):\n",
        "    emotions = ['angry', 'disgust', 'fear', 'happy', 'neutral', 'sad', 'surprise']\n",
        "    plt.figure(figsize = (2,2))\n",
        "    plt.imshow(X[index], cmap = 'gray')\n",
        "    plt.title(emotions[y[index]])\n",
        "    plt.axis('off')\n",
        "    plt.show()\n",
        "show_image(image_arrays, labels, 9358)"
      ]
    },
    {
      "cell_type": "code",
      "execution_count": null,
      "metadata": {
        "id": "fqcnPQ9cGXaD"
      },
      "outputs": [],
      "source": [
        "X = image_arr / 255.0\n",
        "y = labels"
      ]
    },
    {
      "cell_type": "code",
      "execution_count": null,
      "metadata": {
        "id": "tV0mLUGoGut1"
      },
      "outputs": [],
      "source": [
        "X_train, X_test, y_train, y_test = train_test_split(X, y, test_size = 0.3, random_state=78)\n",
        "X_val, X_train = X_train[:1000], X_train[1000:]\n",
        "y_val, y_train = y_train[:1000], y_train[1000:]"
      ]
    },
    {
      "cell_type": "code",
      "execution_count": null,
      "metadata": {
        "colab": {
          "base_uri": "https://localhost:8080/"
        },
        "id": "fva0IGBDF0F6",
        "outputId": "f14fe215-ea21-4bad-be75-f64bf0a64b0c"
      },
      "outputs": [
        {
          "output_type": "stream",
          "name": "stdout",
          "text": [
            "Model: \"sequential_3\"\n",
            "_________________________________________________________________\n",
            " Layer (type)                Output Shape              Param #   \n",
            "=================================================================\n",
            " sequential_2 (Sequential)   (None, 12, 12, 128)       1130560   \n",
            "                                                                 \n",
            " flatten (Flatten)           (None, 18432)             0         \n",
            "                                                                 \n",
            " dense_1 (Dense)             (None, 128)               2359424   \n",
            "                                                                 \n",
            " output_layer (Dense)        (None, 7)                 903       \n",
            "                                                                 \n",
            "=================================================================\n",
            "Total params: 3490887 (13.32 MB)\n",
            "Trainable params: 3489863 (13.31 MB)\n",
            "Non-trainable params: 1024 (4.00 KB)\n",
            "_________________________________________________________________\n"
          ]
        }
      ],
      "source": [
        "# Define Convolutional Network (CNN)\n",
        "cnn = Sequential([\n",
        "    layers.Input(shape=(48, 48, 1)),\n",
        "\n",
        "    layers.Conv2D(\n",
        "        filters=64,\n",
        "        kernel_size=(5,5),\n",
        "        activation='elu',\n",
        "        padding='same',\n",
        "        kernel_initializer='he_normal',\n",
        "        name='conv2d_1'\n",
        "    ),\n",
        "    layers.BatchNormalization(name='batchnorm_1'),\n",
        "    layers.Conv2D(\n",
        "        filters=64,\n",
        "        kernel_size=(5,5),\n",
        "        activation='elu',\n",
        "        padding='same',\n",
        "        kernel_initializer='he_normal',\n",
        "        name='conv2d_2'\n",
        "    ),\n",
        "    layers.BatchNormalization(name='batchnorm_2'),\n",
        "    layers.MaxPooling2D(pool_size=(2,2), name='maxpooling1'),\n",
        "    layers.Dropout(0.4, name='dropout_1'),\n",
        "    layers.Conv2D(\n",
        "        filters=128,\n",
        "        kernel_size=(5,5),\n",
        "        activation='elu',\n",
        "        padding='same',\n",
        "        kernel_initializer='he_normal',\n",
        "        name='conv2d_3'\n",
        "    ),\n",
        "    layers.BatchNormalization(name='batchnorm_3'),\n",
        "    layers.Conv2D(\n",
        "        filters=128,\n",
        "        kernel_size=(5,5),\n",
        "        activation='elu',\n",
        "        padding='same',\n",
        "        kernel_initializer='he_normal',\n",
        "        name='conv2d_4'\n",
        "    ),\n",
        "    layers.BatchNormalization(name='batchnorm_4'),\n",
        "    layers.MaxPooling2D(pool_size=(2,2), name='maxpooling2'),\n",
        "    layers.Dropout(0.4, name='dropout_2'),\n",
        "\n",
        "    layers.Conv2D(\n",
        "        filters=128,\n",
        "        kernel_size=(5,5),\n",
        "        activation='elu',\n",
        "        padding='same',\n",
        "        kernel_initializer='he_normal',\n",
        "        name='conv2d_5'  # Changed layer name from 'conv2d_4' to 'conv2d_5'\n",
        "    ),\n",
        "    layers.BatchNormalization(name='batchnorm_5'),\n",
        "    layers.Dropout(0.4, name='dropout_3'),\n",
        "])\n",
        "\n",
        "# Create the final model\n",
        "model = Sequential([\n",
        "    cnn,\n",
        "    layers.Flatten(name='flatten'),\n",
        "    layers.Dense(128, activation='relu', name='dense_1'),\n",
        "    layers.Dense(7, activation='softmax', name='output_layer')\n",
        "])\n",
        "model.build(input_shape=(None, 48, 48, 1))\n",
        "model.summary()\n"
      ]
    },
    {
      "cell_type": "code",
      "source": [
        "# Define the residual block\n",
        "def residual_block(x, filters, kernel_size=3, stride=1, use_batchnorm=True):\n",
        "    shortcut = x\n",
        "    if stride != 1 or x.shape[-1] != filters:\n",
        "        shortcut = layers.Conv2D(filters, (1, 1), strides=stride, padding='same')(shortcut)\n",
        "        if use_batchnorm:\n",
        "            shortcut = layers.BatchNormalization()(shortcut)\n",
        "\n",
        "    x = layers.Conv2D(filters, kernel_size, strides=stride, padding='same')(x)\n",
        "    if use_batchnorm:\n",
        "        x = layers.BatchNormalization()(x)\n",
        "    x = layers.ReLU()(x)\n",
        "\n",
        "    x = layers.Conv2D(filters, kernel_size, padding='same')(x)\n",
        "    if use_batchnorm:\n",
        "        x = layers.BatchNormalization()(x)\n",
        "\n",
        "    x = layers.add([x, shortcut])\n",
        "    x = layers.ReLU()(x)\n",
        "    return x\n",
        "\n",
        "# Define the ResNet model\n",
        "def create_resnet_model(input_shape, num_classes):\n",
        "    inputs = tf.keras.Input(shape=input_shape)\n",
        "\n",
        "    x = layers.Conv2D(64, (7, 7), strides=2, padding='same', activation='relu')(inputs)\n",
        "    x = layers.MaxPooling2D((3, 3), strides=2, padding='same')(x)\n",
        "\n",
        "    x = residual_block(x, 64)\n",
        "    x = residual_block(x, 64)\n",
        "    x = residual_block(x, 64)\n",
        "\n",
        "    x = residual_block(x, 128, stride=2)\n",
        "    x = residual_block(x, 128)\n",
        "    x = residual_block(x, 128)\n",
        "    x = residual_block(x, 128)\n",
        "\n",
        "    x = layers.GlobalAveragePooling2D()(x)\n",
        "\n",
        "    x = layers.Dense(128, activation='relu')(x)\n",
        "    outputs = layers.Dense(num_classes, activation='softmax')(x)\n",
        "\n",
        "    model = Model(inputs, outputs)\n",
        "    return model\n",
        "\n",
        "# Create the ResNet model\n",
        "input_shape = (48, 48, 1)\n",
        "num_classes = 7\n",
        "\n",
        "resnet_model = create_resnet_model(input_shape, num_classes)\n",
        "resnet_model.summary()"
      ],
      "metadata": {
        "colab": {
          "base_uri": "https://localhost:8080/"
        },
        "id": "-ieOM2kBSWsB",
        "outputId": "d1e5e347-4e12-4b8f-9cbe-1de0f54886e8"
      },
      "execution_count": null,
      "outputs": [
        {
          "output_type": "stream",
          "name": "stdout",
          "text": [
            "Model: \"model_1\"\n",
            "__________________________________________________________________________________________________\n",
            " Layer (type)                Output Shape                 Param #   Connected to                  \n",
            "==================================================================================================\n",
            " input_3 (InputLayer)        [(None, 48, 48, 1)]          0         []                            \n",
            "                                                                                                  \n",
            " conv2d_32 (Conv2D)          (None, 24, 24, 64)           3200      ['input_3[0][0]']             \n",
            "                                                                                                  \n",
            " max_pooling2d_2 (MaxPoolin  (None, 12, 12, 64)           0         ['conv2d_32[0][0]']           \n",
            " g2D)                                                                                             \n",
            "                                                                                                  \n",
            " conv2d_33 (Conv2D)          (None, 12, 12, 64)           36928     ['max_pooling2d_2[0][0]']     \n",
            "                                                                                                  \n",
            " batch_normalization_30 (Ba  (None, 12, 12, 64)           256       ['conv2d_33[0][0]']           \n",
            " tchNormalization)                                                                                \n",
            "                                                                                                  \n",
            " re_lu_28 (ReLU)             (None, 12, 12, 64)           0         ['batch_normalization_30[0][0]\n",
            "                                                                    ']                            \n",
            "                                                                                                  \n",
            " conv2d_34 (Conv2D)          (None, 12, 12, 64)           36928     ['re_lu_28[0][0]']            \n",
            "                                                                                                  \n",
            " batch_normalization_31 (Ba  (None, 12, 12, 64)           256       ['conv2d_34[0][0]']           \n",
            " tchNormalization)                                                                                \n",
            "                                                                                                  \n",
            " add_14 (Add)                (None, 12, 12, 64)           0         ['batch_normalization_31[0][0]\n",
            "                                                                    ',                            \n",
            "                                                                     'max_pooling2d_2[0][0]']     \n",
            "                                                                                                  \n",
            " re_lu_29 (ReLU)             (None, 12, 12, 64)           0         ['add_14[0][0]']              \n",
            "                                                                                                  \n",
            " conv2d_35 (Conv2D)          (None, 12, 12, 64)           36928     ['re_lu_29[0][0]']            \n",
            "                                                                                                  \n",
            " batch_normalization_32 (Ba  (None, 12, 12, 64)           256       ['conv2d_35[0][0]']           \n",
            " tchNormalization)                                                                                \n",
            "                                                                                                  \n",
            " re_lu_30 (ReLU)             (None, 12, 12, 64)           0         ['batch_normalization_32[0][0]\n",
            "                                                                    ']                            \n",
            "                                                                                                  \n",
            " conv2d_36 (Conv2D)          (None, 12, 12, 64)           36928     ['re_lu_30[0][0]']            \n",
            "                                                                                                  \n",
            " batch_normalization_33 (Ba  (None, 12, 12, 64)           256       ['conv2d_36[0][0]']           \n",
            " tchNormalization)                                                                                \n",
            "                                                                                                  \n",
            " add_15 (Add)                (None, 12, 12, 64)           0         ['batch_normalization_33[0][0]\n",
            "                                                                    ',                            \n",
            "                                                                     're_lu_29[0][0]']            \n",
            "                                                                                                  \n",
            " re_lu_31 (ReLU)             (None, 12, 12, 64)           0         ['add_15[0][0]']              \n",
            "                                                                                                  \n",
            " conv2d_37 (Conv2D)          (None, 12, 12, 64)           36928     ['re_lu_31[0][0]']            \n",
            "                                                                                                  \n",
            " batch_normalization_34 (Ba  (None, 12, 12, 64)           256       ['conv2d_37[0][0]']           \n",
            " tchNormalization)                                                                                \n",
            "                                                                                                  \n",
            " re_lu_32 (ReLU)             (None, 12, 12, 64)           0         ['batch_normalization_34[0][0]\n",
            "                                                                    ']                            \n",
            "                                                                                                  \n",
            " conv2d_38 (Conv2D)          (None, 12, 12, 64)           36928     ['re_lu_32[0][0]']            \n",
            "                                                                                                  \n",
            " batch_normalization_35 (Ba  (None, 12, 12, 64)           256       ['conv2d_38[0][0]']           \n",
            " tchNormalization)                                                                                \n",
            "                                                                                                  \n",
            " add_16 (Add)                (None, 12, 12, 64)           0         ['batch_normalization_35[0][0]\n",
            "                                                                    ',                            \n",
            "                                                                     're_lu_31[0][0]']            \n",
            "                                                                                                  \n",
            " re_lu_33 (ReLU)             (None, 12, 12, 64)           0         ['add_16[0][0]']              \n",
            "                                                                                                  \n",
            " conv2d_40 (Conv2D)          (None, 6, 6, 128)            73856     ['re_lu_33[0][0]']            \n",
            "                                                                                                  \n",
            " batch_normalization_37 (Ba  (None, 6, 6, 128)            512       ['conv2d_40[0][0]']           \n",
            " tchNormalization)                                                                                \n",
            "                                                                                                  \n",
            " re_lu_34 (ReLU)             (None, 6, 6, 128)            0         ['batch_normalization_37[0][0]\n",
            "                                                                    ']                            \n",
            "                                                                                                  \n",
            " conv2d_41 (Conv2D)          (None, 6, 6, 128)            147584    ['re_lu_34[0][0]']            \n",
            "                                                                                                  \n",
            " conv2d_39 (Conv2D)          (None, 6, 6, 128)            8320      ['re_lu_33[0][0]']            \n",
            "                                                                                                  \n",
            " batch_normalization_38 (Ba  (None, 6, 6, 128)            512       ['conv2d_41[0][0]']           \n",
            " tchNormalization)                                                                                \n",
            "                                                                                                  \n",
            " batch_normalization_36 (Ba  (None, 6, 6, 128)            512       ['conv2d_39[0][0]']           \n",
            " tchNormalization)                                                                                \n",
            "                                                                                                  \n",
            " add_17 (Add)                (None, 6, 6, 128)            0         ['batch_normalization_38[0][0]\n",
            "                                                                    ',                            \n",
            "                                                                     'batch_normalization_36[0][0]\n",
            "                                                                    ']                            \n",
            "                                                                                                  \n",
            " re_lu_35 (ReLU)             (None, 6, 6, 128)            0         ['add_17[0][0]']              \n",
            "                                                                                                  \n",
            " conv2d_42 (Conv2D)          (None, 6, 6, 128)            147584    ['re_lu_35[0][0]']            \n",
            "                                                                                                  \n",
            " batch_normalization_39 (Ba  (None, 6, 6, 128)            512       ['conv2d_42[0][0]']           \n",
            " tchNormalization)                                                                                \n",
            "                                                                                                  \n",
            " re_lu_36 (ReLU)             (None, 6, 6, 128)            0         ['batch_normalization_39[0][0]\n",
            "                                                                    ']                            \n",
            "                                                                                                  \n",
            " conv2d_43 (Conv2D)          (None, 6, 6, 128)            147584    ['re_lu_36[0][0]']            \n",
            "                                                                                                  \n",
            " batch_normalization_40 (Ba  (None, 6, 6, 128)            512       ['conv2d_43[0][0]']           \n",
            " tchNormalization)                                                                                \n",
            "                                                                                                  \n",
            " add_18 (Add)                (None, 6, 6, 128)            0         ['batch_normalization_40[0][0]\n",
            "                                                                    ',                            \n",
            "                                                                     're_lu_35[0][0]']            \n",
            "                                                                                                  \n",
            " re_lu_37 (ReLU)             (None, 6, 6, 128)            0         ['add_18[0][0]']              \n",
            "                                                                                                  \n",
            " conv2d_44 (Conv2D)          (None, 6, 6, 128)            147584    ['re_lu_37[0][0]']            \n",
            "                                                                                                  \n",
            " batch_normalization_41 (Ba  (None, 6, 6, 128)            512       ['conv2d_44[0][0]']           \n",
            " tchNormalization)                                                                                \n",
            "                                                                                                  \n",
            " re_lu_38 (ReLU)             (None, 6, 6, 128)            0         ['batch_normalization_41[0][0]\n",
            "                                                                    ']                            \n",
            "                                                                                                  \n",
            " conv2d_45 (Conv2D)          (None, 6, 6, 128)            147584    ['re_lu_38[0][0]']            \n",
            "                                                                                                  \n",
            " batch_normalization_42 (Ba  (None, 6, 6, 128)            512       ['conv2d_45[0][0]']           \n",
            " tchNormalization)                                                                                \n",
            "                                                                                                  \n",
            " add_19 (Add)                (None, 6, 6, 128)            0         ['batch_normalization_42[0][0]\n",
            "                                                                    ',                            \n",
            "                                                                     're_lu_37[0][0]']            \n",
            "                                                                                                  \n",
            " re_lu_39 (ReLU)             (None, 6, 6, 128)            0         ['add_19[0][0]']              \n",
            "                                                                                                  \n",
            " conv2d_46 (Conv2D)          (None, 6, 6, 128)            147584    ['re_lu_39[0][0]']            \n",
            "                                                                                                  \n",
            " batch_normalization_43 (Ba  (None, 6, 6, 128)            512       ['conv2d_46[0][0]']           \n",
            " tchNormalization)                                                                                \n",
            "                                                                                                  \n",
            " re_lu_40 (ReLU)             (None, 6, 6, 128)            0         ['batch_normalization_43[0][0]\n",
            "                                                                    ']                            \n",
            "                                                                                                  \n",
            " conv2d_47 (Conv2D)          (None, 6, 6, 128)            147584    ['re_lu_40[0][0]']            \n",
            "                                                                                                  \n",
            " batch_normalization_44 (Ba  (None, 6, 6, 128)            512       ['conv2d_47[0][0]']           \n",
            " tchNormalization)                                                                                \n",
            "                                                                                                  \n",
            " add_20 (Add)                (None, 6, 6, 128)            0         ['batch_normalization_44[0][0]\n",
            "                                                                    ',                            \n",
            "                                                                     're_lu_39[0][0]']            \n",
            "                                                                                                  \n",
            " re_lu_41 (ReLU)             (None, 6, 6, 128)            0         ['add_20[0][0]']              \n",
            "                                                                                                  \n",
            " global_average_pooling2d_2  (None, 128)                  0         ['re_lu_41[0][0]']            \n",
            "  (GlobalAveragePooling2D)                                                                        \n",
            "                                                                                                  \n",
            " dense_4 (Dense)             (None, 128)                  16512     ['global_average_pooling2d_2[0\n",
            "                                                                    ][0]']                        \n",
            "                                                                                                  \n",
            " dense_5 (Dense)             (None, 7)                    903       ['dense_4[0][0]']             \n",
            "                                                                                                  \n",
            "==================================================================================================\n",
            "Total params: 1363591 (5.20 MB)\n",
            "Trainable params: 1360519 (5.19 MB)\n",
            "Non-trainable params: 3072 (12.00 KB)\n",
            "__________________________________________________________________________________________________\n"
          ]
        }
      ]
    },
    {
      "cell_type": "code",
      "execution_count": null,
      "metadata": {
        "id": "T2Tt6QvfZy7A"
      },
      "outputs": [],
      "source": [
        "# Compile the model\n",
        "optimizer = SGD(learning_rate=0.01)\n",
        "resnet_model.compile(\n",
        "    optimizer=optimizer,\n",
        "    metrics=['accuracy'],\n",
        "    loss=\"sparse_categorical_crossentropy\"\n",
        ")"
      ]
    },
    {
      "cell_type": "code",
      "execution_count": null,
      "metadata": {
        "id": "e_4Py8RLHcVm"
      },
      "outputs": [],
      "source": [
        "x_train = np.array(X_train).reshape(-1, 48, 48, 1)\n",
        "x_test = np.array(X_test).reshape(-1, 48, 48, 1)\n",
        "x_val = np.array(X_val).reshape(-1, 48, 48, 1)\n",
        "\n",
        "# Create a dataset from your NumPy arrays\n",
        "train_dataset = tf.data.Dataset.from_tensor_slices((x_train, y_train))\n",
        "validation_dataset = tf.data.Dataset.from_tensor_slices((x_val, y_val))\n",
        "test_dataset = tf.data.Dataset.from_tensor_slices((x_test, y_test))\n",
        "\n",
        "# Define batch size and shuffle buffer size\n",
        "batch_size = 12\n",
        "shuffle_buffer_size = len(x_train)\n",
        "\n",
        "# Shuffle and batch the datasets\n",
        "train_dataset = train_dataset.shuffle(shuffle_buffer_size).batch(batch_size)\n",
        "validation_dataset = validation_dataset.batch(batch_size)\n",
        "test_dataset = test_dataset.batch(batch_size)"
      ]
    },
    {
      "cell_type": "code",
      "execution_count": null,
      "metadata": {
        "id": "psbYenSTH7g3"
      },
      "outputs": [],
      "source": [
        "early_stopping = tf.keras.callbacks.EarlyStopping(\n",
        "    monitor='val_loss',\n",
        "    patience=30,\n",
        "    restore_best_weights=True\n",
        ")"
      ]
    },
    {
      "cell_type": "code",
      "execution_count": null,
      "metadata": {
        "colab": {
          "base_uri": "https://localhost:8080/"
        },
        "id": "BM60vgQo_f6-",
        "outputId": "da0333c9-9b3e-4213-e672-163ad44d6c0e"
      },
      "outputs": [
        {
          "output_type": "stream",
          "name": "stdout",
          "text": [
            "Epoch 1/100\n",
            "1592/1592 [==============================] - 19s 12ms/step - loss: 0.6732 - accuracy: 0.7518 - val_loss: 2.2071 - val_accuracy: 0.4390\n",
            "Epoch 2/100\n",
            "1592/1592 [==============================] - 19s 12ms/step - loss: 0.6038 - accuracy: 0.7835 - val_loss: 2.8365 - val_accuracy: 0.4020\n",
            "Epoch 3/100\n",
            "1592/1592 [==============================] - 19s 12ms/step - loss: 0.5238 - accuracy: 0.8113 - val_loss: 2.7156 - val_accuracy: 0.3750\n",
            "Epoch 4/100\n",
            "1592/1592 [==============================] - 19s 12ms/step - loss: 0.4752 - accuracy: 0.8280 - val_loss: 3.1753 - val_accuracy: 0.3930\n",
            "Epoch 5/100\n",
            "1592/1592 [==============================] - 19s 12ms/step - loss: 0.4186 - accuracy: 0.8509 - val_loss: 2.6356 - val_accuracy: 0.4670\n",
            "Epoch 6/100\n",
            "1592/1592 [==============================] - 19s 12ms/step - loss: 0.3696 - accuracy: 0.8702 - val_loss: 2.4016 - val_accuracy: 0.4180\n",
            "Epoch 7/100\n",
            "1592/1592 [==============================] - 19s 12ms/step - loss: 0.3233 - accuracy: 0.8845 - val_loss: 2.3575 - val_accuracy: 0.4110\n",
            "Epoch 8/100\n",
            "1592/1592 [==============================] - 19s 12ms/step - loss: 0.2815 - accuracy: 0.9001 - val_loss: 4.6244 - val_accuracy: 0.2600\n",
            "Epoch 9/100\n",
            "1592/1592 [==============================] - 19s 12ms/step - loss: 0.2488 - accuracy: 0.9140 - val_loss: 3.0308 - val_accuracy: 0.4460\n",
            "Epoch 10/100\n",
            "1592/1592 [==============================] - 19s 12ms/step - loss: 0.2222 - accuracy: 0.9223 - val_loss: 2.9896 - val_accuracy: 0.4420\n",
            "Epoch 11/100\n",
            "1592/1592 [==============================] - 19s 12ms/step - loss: 0.1874 - accuracy: 0.9345 - val_loss: 2.7626 - val_accuracy: 0.4970\n",
            "Epoch 12/100\n",
            "1592/1592 [==============================] - 19s 12ms/step - loss: 0.1695 - accuracy: 0.9419 - val_loss: 3.2597 - val_accuracy: 0.4200\n",
            "Epoch 13/100\n",
            "1592/1592 [==============================] - 19s 12ms/step - loss: 0.1696 - accuracy: 0.9432 - val_loss: 2.3703 - val_accuracy: 0.5120\n",
            "Epoch 14/100\n",
            "1592/1592 [==============================] - 19s 12ms/step - loss: 0.1405 - accuracy: 0.9541 - val_loss: 2.8831 - val_accuracy: 0.4590\n",
            "Epoch 15/100\n",
            "1592/1592 [==============================] - 20s 12ms/step - loss: 0.1293 - accuracy: 0.9570 - val_loss: 3.5129 - val_accuracy: 0.4040\n",
            "Epoch 16/100\n",
            "1592/1592 [==============================] - 20s 12ms/step - loss: 0.1262 - accuracy: 0.9562 - val_loss: 2.9971 - val_accuracy: 0.5080\n",
            "Epoch 17/100\n",
            "1592/1592 [==============================] - 19s 12ms/step - loss: 0.1054 - accuracy: 0.9667 - val_loss: 2.9681 - val_accuracy: 0.4660\n",
            "Epoch 18/100\n",
            "1592/1592 [==============================] - 21s 13ms/step - loss: 0.1038 - accuracy: 0.9661 - val_loss: 3.3248 - val_accuracy: 0.4810\n",
            "Epoch 19/100\n",
            "1592/1592 [==============================] - 19s 12ms/step - loss: 0.0904 - accuracy: 0.9717 - val_loss: 3.1817 - val_accuracy: 0.4930\n",
            "Epoch 20/100\n",
            "1592/1592 [==============================] - 19s 12ms/step - loss: 0.0843 - accuracy: 0.9731 - val_loss: 3.6248 - val_accuracy: 0.4100\n",
            "Epoch 21/100\n",
            "1592/1592 [==============================] - 19s 12ms/step - loss: 0.0801 - accuracy: 0.9733 - val_loss: 3.9620 - val_accuracy: 0.3480\n",
            "Epoch 22/100\n",
            "1592/1592 [==============================] - 19s 12ms/step - loss: 0.0827 - accuracy: 0.9736 - val_loss: 2.7843 - val_accuracy: 0.5110\n",
            "Epoch 23/100\n",
            "1592/1592 [==============================] - 19s 12ms/step - loss: 0.0646 - accuracy: 0.9789 - val_loss: 3.0066 - val_accuracy: 0.5120\n",
            "Epoch 24/100\n",
            "1592/1592 [==============================] - 19s 12ms/step - loss: 0.0673 - accuracy: 0.9778 - val_loss: 3.0159 - val_accuracy: 0.4880\n",
            "Epoch 25/100\n",
            "1592/1592 [==============================] - 19s 12ms/step - loss: 0.0612 - accuracy: 0.9804 - val_loss: 3.8234 - val_accuracy: 0.4680\n",
            "Epoch 26/100\n",
            "1592/1592 [==============================] - 19s 12ms/step - loss: 0.0591 - accuracy: 0.9820 - val_loss: 3.2236 - val_accuracy: 0.5070\n",
            "Epoch 27/100\n",
            "1592/1592 [==============================] - 20s 12ms/step - loss: 0.0507 - accuracy: 0.9839 - val_loss: 4.2443 - val_accuracy: 0.4020\n",
            "Epoch 28/100\n",
            "1592/1592 [==============================] - 19s 12ms/step - loss: 0.0524 - accuracy: 0.9823 - val_loss: 2.8974 - val_accuracy: 0.5090\n",
            "Epoch 29/100\n",
            "1592/1592 [==============================] - 19s 12ms/step - loss: 0.0557 - accuracy: 0.9822 - val_loss: 3.2216 - val_accuracy: 0.5090\n",
            "Epoch 30/100\n",
            "1592/1592 [==============================] - 21s 13ms/step - loss: 0.0541 - accuracy: 0.9825 - val_loss: 3.3937 - val_accuracy: 0.5230\n",
            "Epoch 31/100\n",
            "1592/1592 [==============================] - 20s 13ms/step - loss: 0.0520 - accuracy: 0.9839 - val_loss: 3.0228 - val_accuracy: 0.4890\n"
          ]
        },
        {
          "output_type": "execute_result",
          "data": {
            "text/plain": [
              "<keras.src.callbacks.History at 0x7d73a7728e20>"
            ]
          },
          "metadata": {},
          "execution_count": 36
        }
      ],
      "source": [
        "resnet_model.fit(train_dataset, epochs=100, validation_data=validation_dataset, callbacks=[early_stopping])"
      ]
    },
    {
      "cell_type": "code",
      "execution_count": null,
      "metadata": {
        "colab": {
          "base_uri": "https://localhost:8080/"
        },
        "id": "xpJ829JVGzil",
        "outputId": "f8ebb17b-4eff-42de-dcc6-857409701c72"
      },
      "outputs": [
        {
          "output_type": "stream",
          "name": "stdout",
          "text": [
            "1592/1592 [==============================] - 22s 14ms/step - loss: 0.9217 - accuracy: 0.6629\n"
          ]
        },
        {
          "output_type": "execute_result",
          "data": {
            "text/plain": [
              "[0.9217221140861511, 0.6629136800765991]"
            ]
          },
          "metadata": {},
          "execution_count": 26
        }
      ],
      "source": [
        "resnet_model.evaluate(train_dataset)"
      ]
    },
    {
      "cell_type": "code",
      "execution_count": null,
      "metadata": {
        "colab": {
          "base_uri": "https://localhost:8080/"
        },
        "id": "28EoNtBlnZCv",
        "outputId": "b0d1c1d8-b7a7-4cad-9989-264f86d3685a"
      },
      "outputs": [
        {
          "output_type": "stream",
          "name": "stdout",
          "text": [
            "718/718 [==============================] - 3s 4ms/step - loss: 1.5168 - accuracy: 0.4756\n"
          ]
        },
        {
          "output_type": "execute_result",
          "data": {
            "text/plain": [
              "[1.5167646408081055, 0.47556018829345703]"
            ]
          },
          "metadata": {},
          "execution_count": 35
        }
      ],
      "source": [
        "resnet_model.evaluate(test_dataset)"
      ]
    }
  ],
  "metadata": {
    "accelerator": "GPU",
    "colab": {
      "provenance": []
    },
    "kernelspec": {
      "display_name": "Python 3",
      "name": "python3"
    },
    "language_info": {
      "name": "python"
    }
  },
  "nbformat": 4,
  "nbformat_minor": 0
}